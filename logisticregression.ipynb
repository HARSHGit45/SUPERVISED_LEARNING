{
 "cells": [
  {
   "cell_type": "code",
   "execution_count": 1,
   "id": "37850af7-0774-4903-a642-b3d609c6068c",
   "metadata": {},
   "outputs": [],
   "source": [
    "import numpy\n",
    "import pandas as pd"
   ]
  },
  {
   "cell_type": "code",
   "execution_count": 2,
   "id": "f1adf4cd-051c-4b7d-a262-dedad9d54564",
   "metadata": {},
   "outputs": [
    {
     "data": {
      "text/html": [
       "<div>\n",
       "<style scoped>\n",
       "    .dataframe tbody tr th:only-of-type {\n",
       "        vertical-align: middle;\n",
       "    }\n",
       "\n",
       "    .dataframe tbody tr th {\n",
       "        vertical-align: top;\n",
       "    }\n",
       "\n",
       "    .dataframe thead th {\n",
       "        text-align: right;\n",
       "    }\n",
       "</style>\n",
       "<table border=\"1\" class=\"dataframe\">\n",
       "  <thead>\n",
       "    <tr style=\"text-align: right;\">\n",
       "      <th></th>\n",
       "      <th>sep_len</th>\n",
       "      <th>sep_width</th>\n",
       "      <th>pet_len</th>\n",
       "      <th>pet_size</th>\n",
       "      <th>species</th>\n",
       "    </tr>\n",
       "  </thead>\n",
       "  <tbody>\n",
       "    <tr>\n",
       "      <th>0</th>\n",
       "      <td>4.9</td>\n",
       "      <td>3.0</td>\n",
       "      <td>1.4</td>\n",
       "      <td>0.2</td>\n",
       "      <td>Iris-setosa</td>\n",
       "    </tr>\n",
       "    <tr>\n",
       "      <th>1</th>\n",
       "      <td>4.7</td>\n",
       "      <td>3.2</td>\n",
       "      <td>1.3</td>\n",
       "      <td>0.2</td>\n",
       "      <td>Iris-setosa</td>\n",
       "    </tr>\n",
       "    <tr>\n",
       "      <th>2</th>\n",
       "      <td>4.6</td>\n",
       "      <td>3.1</td>\n",
       "      <td>1.5</td>\n",
       "      <td>0.2</td>\n",
       "      <td>Iris-setosa</td>\n",
       "    </tr>\n",
       "    <tr>\n",
       "      <th>3</th>\n",
       "      <td>5.0</td>\n",
       "      <td>3.6</td>\n",
       "      <td>1.4</td>\n",
       "      <td>0.2</td>\n",
       "      <td>Iris-setosa</td>\n",
       "    </tr>\n",
       "    <tr>\n",
       "      <th>4</th>\n",
       "      <td>5.4</td>\n",
       "      <td>3.9</td>\n",
       "      <td>1.7</td>\n",
       "      <td>0.4</td>\n",
       "      <td>Iris-setosa</td>\n",
       "    </tr>\n",
       "  </tbody>\n",
       "</table>\n",
       "</div>"
      ],
      "text/plain": [
       "   sep_len  sep_width  pet_len  pet_size      species\n",
       "0      4.9        3.0      1.4       0.2  Iris-setosa\n",
       "1      4.7        3.2      1.3       0.2  Iris-setosa\n",
       "2      4.6        3.1      1.5       0.2  Iris-setosa\n",
       "3      5.0        3.6      1.4       0.2  Iris-setosa\n",
       "4      5.4        3.9      1.7       0.4  Iris-setosa"
      ]
     },
     "execution_count": 2,
     "metadata": {},
     "output_type": "execute_result"
    }
   ],
   "source": [
    "df=pd.read_csv(\"IRIS.csv\")\n",
    "df.head()"
   ]
  },
  {
   "cell_type": "code",
   "execution_count": 6,
   "id": "6c21e0a4-2a9a-4be4-a85a-74fe4ef50a91",
   "metadata": {},
   "outputs": [],
   "source": [
    "# converting the qualitative data into quantitive data\n",
    "\n",
    "df['species']=df['species'].map({'Iris-setosa':0,'Iris-versicolor':\n",
    "1,'Iris-virginica':2})\n"
   ]
  },
  {
   "cell_type": "code",
   "execution_count": 8,
   "id": "d9e1da69-8edd-42b4-8811-5ec39f2babcd",
   "metadata": {},
   "outputs": [
    {
     "data": {
      "text/html": [
       "<div>\n",
       "<style scoped>\n",
       "    .dataframe tbody tr th:only-of-type {\n",
       "        vertical-align: middle;\n",
       "    }\n",
       "\n",
       "    .dataframe tbody tr th {\n",
       "        vertical-align: top;\n",
       "    }\n",
       "\n",
       "    .dataframe thead th {\n",
       "        text-align: right;\n",
       "    }\n",
       "</style>\n",
       "<table border=\"1\" class=\"dataframe\">\n",
       "  <thead>\n",
       "    <tr style=\"text-align: right;\">\n",
       "      <th></th>\n",
       "      <th>sep_len</th>\n",
       "      <th>sep_width</th>\n",
       "      <th>pet_len</th>\n",
       "      <th>pet_size</th>\n",
       "      <th>species</th>\n",
       "    </tr>\n",
       "  </thead>\n",
       "  <tbody>\n",
       "    <tr>\n",
       "      <th>0</th>\n",
       "      <td>4.9</td>\n",
       "      <td>3.0</td>\n",
       "      <td>1.4</td>\n",
       "      <td>0.2</td>\n",
       "      <td>0</td>\n",
       "    </tr>\n",
       "    <tr>\n",
       "      <th>1</th>\n",
       "      <td>4.7</td>\n",
       "      <td>3.2</td>\n",
       "      <td>1.3</td>\n",
       "      <td>0.2</td>\n",
       "      <td>0</td>\n",
       "    </tr>\n",
       "    <tr>\n",
       "      <th>2</th>\n",
       "      <td>4.6</td>\n",
       "      <td>3.1</td>\n",
       "      <td>1.5</td>\n",
       "      <td>0.2</td>\n",
       "      <td>0</td>\n",
       "    </tr>\n",
       "    <tr>\n",
       "      <th>3</th>\n",
       "      <td>5.0</td>\n",
       "      <td>3.6</td>\n",
       "      <td>1.4</td>\n",
       "      <td>0.2</td>\n",
       "      <td>0</td>\n",
       "    </tr>\n",
       "    <tr>\n",
       "      <th>4</th>\n",
       "      <td>5.4</td>\n",
       "      <td>3.9</td>\n",
       "      <td>1.7</td>\n",
       "      <td>0.4</td>\n",
       "      <td>0</td>\n",
       "    </tr>\n",
       "  </tbody>\n",
       "</table>\n",
       "</div>"
      ],
      "text/plain": [
       "   sep_len  sep_width  pet_len  pet_size  species\n",
       "0      4.9        3.0      1.4       0.2        0\n",
       "1      4.7        3.2      1.3       0.2        0\n",
       "2      4.6        3.1      1.5       0.2        0\n",
       "3      5.0        3.6      1.4       0.2        0\n",
       "4      5.4        3.9      1.7       0.4        0"
      ]
     },
     "execution_count": 8,
     "metadata": {},
     "output_type": "execute_result"
    }
   ],
   "source": [
    "df.head()"
   ]
  },
  {
   "cell_type": "code",
   "execution_count": 9,
   "id": "0590db65-744a-40d4-9b71-086affa243cf",
   "metadata": {},
   "outputs": [
    {
     "data": {
      "text/plain": [
       "array([0, 1, 2], dtype=int64)"
      ]
     },
     "execution_count": 9,
     "metadata": {},
     "output_type": "execute_result"
    }
   ],
   "source": [
    " df['species'].unique()\n"
   ]
  },
  {
   "cell_type": "code",
   "execution_count": 10,
   "id": "f68dff02-53a9-49d8-8ac8-7c429b5883a2",
   "metadata": {},
   "outputs": [],
   "source": [
    "# identifying the input data and target i.e output data\n",
    "\n",
    "x=df.iloc[:,:-1]\n",
    "y=df.iloc[:,-1]\n"
   ]
  },
  {
   "cell_type": "code",
   "execution_count": 12,
   "id": "ee31b608-a4d2-429f-b265-625135a48778",
   "metadata": {},
   "outputs": [
    {
     "name": "stdout",
     "output_type": "stream",
     "text": [
      "     sep_len  sep_width  pet_len  pet_size\n",
      "0        4.9        3.0      1.4       0.2\n",
      "1        4.7        3.2      1.3       0.2\n",
      "2        4.6        3.1      1.5       0.2\n",
      "3        5.0        3.6      1.4       0.2\n",
      "4        5.4        3.9      1.7       0.4\n",
      "..       ...        ...      ...       ...\n",
      "144      6.7        3.0      5.2       2.3\n",
      "145      6.3        2.5      5.0       1.9\n",
      "146      6.5        3.0      5.2       2.0\n",
      "147      6.2        3.4      5.4       2.3\n",
      "148      5.9        3.0      5.1       1.8\n",
      "\n",
      "[149 rows x 4 columns]\n"
     ]
    }
   ],
   "source": [
    "print(x)"
   ]
  },
  {
   "cell_type": "code",
   "execution_count": 13,
   "id": "e5202b0b-ccf6-4176-9c90-088c5c84628b",
   "metadata": {},
   "outputs": [
    {
     "name": "stdout",
     "output_type": "stream",
     "text": [
      "0      0\n",
      "1      0\n",
      "2      0\n",
      "3      0\n",
      "4      0\n",
      "      ..\n",
      "144    2\n",
      "145    2\n",
      "146    2\n",
      "147    2\n",
      "148    2\n",
      "Name: species, Length: 149, dtype: int64\n"
     ]
    }
   ],
   "source": [
    "print(y)"
   ]
  },
  {
   "cell_type": "code",
   "execution_count": 14,
   "id": "f60f013d-f326-4176-b7f5-6aa1d011fc49",
   "metadata": {},
   "outputs": [],
   "source": [
    "from sklearn.model_selection import train_test_split"
   ]
  },
  {
   "cell_type": "code",
   "execution_count": 27,
   "id": "356575ea-547b-4b59-bb5c-011a043379b4",
   "metadata": {},
   "outputs": [],
   "source": [
    "#dividing the training data and testing data\n",
    "\n",
    "x_train,x_test,y_train,y_test=train_test_split(x,y,test_size=0.30,random_state=42)"
   ]
  },
  {
   "cell_type": "code",
   "execution_count": 34,
   "id": "0d988006-a5be-4df0-b119-7d14a3919271",
   "metadata": {},
   "outputs": [],
   "source": [
    " from sklearn.linear_model import LogisticRegression"
   ]
  },
  {
   "cell_type": "code",
   "execution_count": 37,
   "id": "ca92d164-e2b0-4df9-b5d9-d77dc828d233",
   "metadata": {},
   "outputs": [],
   "source": [
    "model = LogisticRegression()\n",
    "md=model.fit(x_train, y_train)\n"
   ]
  },
  {
   "cell_type": "code",
   "execution_count": 41,
   "id": "51c65247-0708-4a7a-843e-253d58a153d0",
   "metadata": {},
   "outputs": [],
   "source": [
    "y_pred=md.predict(x_test)"
   ]
  },
  {
   "cell_type": "code",
   "execution_count": 42,
   "id": "8a293e53-50a8-40fd-9544-03535c31b50d",
   "metadata": {},
   "outputs": [],
   "source": [
    "from sklearn.metrics import accuracy_score"
   ]
  },
  {
   "cell_type": "code",
   "execution_count": 43,
   "id": "1ae5bec5-89c8-4940-aab2-caecfc98bfe5",
   "metadata": {},
   "outputs": [
    {
     "name": "stdout",
     "output_type": "stream",
     "text": [
      "0.9111111111111111\n"
     ]
    }
   ],
   "source": [
    "#checking accuracy rate for our logistic model\n",
    "\n",
    "print(accuracy_score(y_pred,y_test))"
   ]
  },
  {
   "cell_type": "code",
   "execution_count": 44,
   "id": "641d4a0b-be06-4a40-a442-8879eaf9cc64",
   "metadata": {},
   "outputs": [
    {
     "name": "stdout",
     "output_type": "stream",
     "text": [
      "ENter the the Sepal length\n"
     ]
    },
    {
     "name": "stdin",
     "output_type": "stream",
     "text": [
      " 2.1\n"
     ]
    },
    {
     "name": "stdout",
     "output_type": "stream",
     "text": [
      "Enter the sepeal width: \n"
     ]
    },
    {
     "name": "stdin",
     "output_type": "stream",
     "text": [
      " 3.4\n"
     ]
    },
    {
     "name": "stdout",
     "output_type": "stream",
     "text": [
      "enter petal length : \n"
     ]
    },
    {
     "name": "stdin",
     "output_type": "stream",
     "text": [
      " 4.2\n"
     ]
    },
    {
     "name": "stdout",
     "output_type": "stream",
     "text": [
      "Enter the petal width: \n"
     ]
    },
    {
     "name": "stdin",
     "output_type": "stream",
     "text": [
      " 4.5\n"
     ]
    }
   ],
   "source": [
    "#testing with our own data\n",
    "\n",
    "print(\"ENter the the Sepal length\")\n",
    "a=input()\n",
    "print(\"Enter the sepeal width: \")\n",
    "b=input()\n",
    "print(\"enter petal length : \")\n",
    "c=input()\n",
    "print(\"Enter the petal width: \")\n",
    "d=input()\n"
   ]
  },
  {
   "cell_type": "code",
   "execution_count": 48,
   "id": "25a33686-4ef7-4119-8846-8185dc3a3791",
   "metadata": {},
   "outputs": [],
   "source": [
    "personal_input_data = {\n",
    "'sep_len': [a],\n",
    "'sep_width': [b],\n",
    "'pet_len': [c],\n",
    "'pet_size': [d]\n",
    "}\n"
   ]
  },
  {
   "cell_type": "code",
   "execution_count": 49,
   "id": "d2fb99d4-4f4a-48d3-bb95-8614365d2a57",
   "metadata": {},
   "outputs": [],
   "source": [
    " personal_input_df = pd.DataFrame(personal_input_data)"
   ]
  },
  {
   "cell_type": "code",
   "execution_count": 50,
   "id": "3253c7f7-2f6c-44c9-8718-8af12e80e9d0",
   "metadata": {},
   "outputs": [],
   "source": [
    "pred = model.predict(personal_input_df)"
   ]
  },
  {
   "cell_type": "code",
   "execution_count": 52,
   "id": "0d7d47e1-beed-4551-b0a9-943b682ed6be",
   "metadata": {},
   "outputs": [
    {
     "name": "stdout",
     "output_type": "stream",
     "text": [
      "Bro !! Flower colour is Iris=Virgina\n"
     ]
    }
   ],
   "source": [
    "if pred==0:\n",
    "    print(\"Bro!! Flower Colour is Iris-Setosa\")\n",
    "elif pred==1:\n",
    "    print(\"Bro!!! Flower Colour is Iris-VeriColour\")\n",
    "else:\n",
    "    print(\"Bro !! Flower colour is Iris=Virgina\")"
   ]
  },
  {
   "cell_type": "code",
   "execution_count": null,
   "id": "d70d8616-9b28-4139-936a-2fbc87880d4c",
   "metadata": {},
   "outputs": [],
   "source": []
  }
 ],
 "metadata": {
  "kernelspec": {
   "display_name": "Python 3 (ipykernel)",
   "language": "python",
   "name": "python3"
  },
  "language_info": {
   "codemirror_mode": {
    "name": "ipython",
    "version": 3
   },
   "file_extension": ".py",
   "mimetype": "text/x-python",
   "name": "python",
   "nbconvert_exporter": "python",
   "pygments_lexer": "ipython3",
   "version": "3.11.6"
  }
 },
 "nbformat": 4,
 "nbformat_minor": 5
}
